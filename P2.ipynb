{
 "cells": [
  {
   "cell_type": "markdown",
   "metadata": {},
   "source": [
    "# Problem 1: Square Root of an Integer"
   ]
  },
  {
   "cell_type": "code",
   "execution_count": 59,
   "metadata": {},
   "outputs": [
    {
     "name": "stdout",
     "output_type": "stream",
     "text": [
      "Pass\n",
      "Pass\n",
      "Pass\n",
      "Pass\n",
      "Pass\n",
      "Pass\n"
     ]
    }
   ],
   "source": [
    "def sqrt(number):\n",
    "    \"\"\"\n",
    "    Calculate the floored square root of a number\n",
    "\n",
    "    Args:\n",
    "       number(int): Number to find the floored squared root\n",
    "    Returns:\n",
    "       int: Floored Square Root\n",
    "    \"\"\"\n",
    "    \n",
    "    if (number == 0) or (number == 1):\n",
    "        return number\n",
    "    \n",
    "    if (not str(number).isnumeric()):\n",
    "        return None\n",
    "        \n",
    "    number_array = [i for i in range(number)]\n",
    "    \n",
    "    middle_index = len(number_array) // 2\n",
    "    \n",
    "    if number_array[middle_index]** 2 == (number//number_array[middle_index])**2:\n",
    "        return middle_index\n",
    "    \n",
    "    while number_array[middle_index]**2 != (number//number_array[middle_index])**2:\n",
    "        \n",
    "        if number_array[middle_index]**2 > number:\n",
    "            #move left\n",
    "            number_array = number_array[:middle_index]\n",
    "            middle_index = len(number_array) // 2\n",
    "    \n",
    "        elif number_array[middle_index]**2 < number:\n",
    "            #move right\n",
    "            number_array = number_array[middle_index+1:]\n",
    "            middle_index = len(number_array) // 2\n",
    "    \n",
    "    return number_array[middle_index]\n",
    "    \n",
    "\n",
    "print (\"Pass\" if  (3 == sqrt(9)) else \"Fail\")\n",
    "print (\"Pass\" if  (0 == sqrt(0)) else \"Fail\")\n",
    "print (\"Pass\" if  (4 == sqrt(16)) else \"Fail\")\n",
    "print (\"Pass\" if  (1 == sqrt(1)) else \"Fail\")\n",
    "print (\"Pass\" if  (5 == sqrt(27)) else \"Fail\")\n",
    "print (\"Pass\" if  (None == sqrt(\"A\")) else \"Fail\")"
   ]
  },
  {
   "cell_type": "markdown",
   "metadata": {},
   "source": [
    "### Explanation"
   ]
  },
  {
   "cell_type": "markdown",
   "metadata": {},
   "source": [
    "Time efficiency: O(log(n))\n",
    "\n",
    "Space efficiency: O(n)"
   ]
  },
  {
   "cell_type": "markdown",
   "metadata": {},
   "source": [
    "Design choices: \n",
    "1. I used a binary search algorithm, in which I transformed my input into an array that I could slice on half each time and search for the square root"
   ]
  },
  {
   "cell_type": "markdown",
   "metadata": {},
   "source": [
    "### Credits"
   ]
  },
  {
   "cell_type": "markdown",
   "metadata": {},
   "source": [
    "I adapted the code that was explained in class https://classroom.udacity.com/nanodegrees/nd256/parts/cd1887/modules/9ded5d76-37be-4fbc-9653-af8f160e9e98/lessons/cadae36d-5fcc-421a-a5a9-5307114b85a4/concepts/0587ad72-22ca-4218-91f5-3fc9d107ef10"
   ]
  },
  {
   "cell_type": "markdown",
   "metadata": {},
   "source": [
    "# Problem 2: Search in a Rotated Sorted Array\n"
   ]
  },
  {
   "cell_type": "code",
   "execution_count": 41,
   "metadata": {},
   "outputs": [
    {
     "name": "stdout",
     "output_type": "stream",
     "text": [
      "Pass\n",
      "Pass\n",
      "Pass\n",
      "Pass\n",
      "Pass\n"
     ]
    }
   ],
   "source": [
    "def rotated_array_search(input_list, number):\n",
    "    \"\"\"\n",
    "    Find the index by searching in a rotated sorted array\n",
    "\n",
    "    Args:\n",
    "       input_list(array), number(int): Input array to search and the target\n",
    "    Returns:\n",
    "       int: Index or -1\n",
    "    \"\"\"\n",
    "   \n",
    "    start_index = 0\n",
    "    end_index = len(input_list) - 1\n",
    "    mid_index = (start_index + end_index)//2\n",
    "    \n",
    "    if input_list[start_index] < input_list[mid_index]: #first half is sorted\n",
    "        # check if number is in between the first or second half\n",
    "        if number >= input_list[start_index] and number <= input_list[mid_index]: \n",
    "            end_index = mid_index\n",
    "        else:\n",
    "            start_index = mid_index + 1\n",
    "        \n",
    "    else: #second half is sorted \n",
    "        # check if number is in between the first half or second half\n",
    "        if number >= input_list[mid_index] and number <= input_list[end_index]:\n",
    "            start_index = mid_index\n",
    "        else:\n",
    "            end_index = mid_index - 1\n",
    "    \n",
    "    while start_index <= end_index:\n",
    "        mid_index = (start_index + end_index)//2        # integer division in Python 3\n",
    "        \n",
    "        mid_element = input_list[mid_index]\n",
    "        \n",
    "        if number == mid_element:                       # we have found the element\n",
    "            return mid_index\n",
    "        \n",
    "        elif number < mid_element:                      # the target is less than mid element\n",
    "            end_index = mid_index - 1                   # we will only search in the left half\n",
    "        \n",
    "        else:                                           # the target is greater than mid element\n",
    "            start_index = mid_index + 1               # we will search only in the right half\n",
    "    \n",
    "    \n",
    "    return -1\n",
    "\n",
    "def linear_search(input_list, number):\n",
    "    for index, element in enumerate(input_list):\n",
    "        if element == number:\n",
    "            return index\n",
    "    return -1\n",
    "\n",
    "def test_function(test_case):\n",
    "    input_list = test_case[0]\n",
    "    number = test_case[1]\n",
    "    if linear_search(input_list, number) == rotated_array_search(input_list, number):\n",
    "        print(\"Pass\")\n",
    "    else:\n",
    "        print(\"Fail\")\n",
    "\n",
    "test_function([[6, 7, 8, 9, 10, 1, 2, 3, 4], 6])\n",
    "test_function([[6, 7, 8, 9, 10, 1, 2, 3, 4], 1])\n",
    "test_function([[6, 7, 8, 1, 2, 3, 4], 8])\n",
    "test_function([[6, 7, 8, 1, 2, 3, 4], 1])\n",
    "test_function([[6, 7, 8, 1, 2, 3, 4], 10])"
   ]
  },
  {
   "cell_type": "markdown",
   "metadata": {},
   "source": [
    "### Explanation"
   ]
  },
  {
   "cell_type": "markdown",
   "metadata": {},
   "source": [
    "Time efficiency: O(log(n))\n",
    "\n",
    "Space efficiency: O(n)"
   ]
  },
  {
   "cell_type": "markdown",
   "metadata": {},
   "source": [
    "Design choices: \n",
    "1. I used a binary search algorithm, in which I transformed my input into an array. I took advantage of the fact that the array is sorted in certain points, and I will do an initial slice before I jump into the loop reducing the number of iterations."
   ]
  },
  {
   "cell_type": "markdown",
   "metadata": {},
   "source": [
    "### Credits"
   ]
  },
  {
   "cell_type": "markdown",
   "metadata": {},
   "source": [
    "I adapted the code that was explained in class https://classroom.udacity.com/nanodegrees/nd256/parts/cd1887/modules/9ded5d76-37be-4fbc-9653-af8f160e9e98/lessons/cadae36d-5fcc-421a-a5a9-5307114b85a4/concepts/0587ad72-22ca-4218-91f5-3fc9d107ef10"
   ]
  },
  {
   "cell_type": "markdown",
   "metadata": {},
   "source": [
    "## Problem 3: Rearrange Array Elements"
   ]
  },
  {
   "cell_type": "code",
   "execution_count": 42,
   "metadata": {},
   "outputs": [],
   "source": [
    "def rearrange_digits(input_list):\n",
    "    \"\"\"\n",
    "    Rearrange Array Elements so as to form two number such that their sum is maximum.\n",
    "\n",
    "    Args:\n",
    "       input_list(list): Input List\n",
    "    Returns:\n",
    "       (int),(int): Two maximum sums\n",
    "    \"\"\"\n",
    "    \n",
    "    def mergesort(items):\n",
    "\n",
    "        if len(items) <= 1:\n",
    "            return items\n",
    "        \n",
    "        mid = len(items) // 2\n",
    "        left = items[:mid]\n",
    "        right = items[mid:]\n",
    "        \n",
    "        left = mergesort(left)\n",
    "        right = mergesort(right)\n",
    "        \n",
    "        return merge(left, right)\n",
    "    \n",
    "    def merge(left, right):\n",
    "        \n",
    "        merged = []\n",
    "        left_index = 0\n",
    "        right_index = 0\n",
    "        \n",
    "        while left_index < len(left) and right_index < len(right):\n",
    "            if left[left_index] < right[right_index]:\n",
    "                merged.append(right[right_index])\n",
    "                right_index += 1\n",
    "            else:\n",
    "                merged.append(left[left_index])\n",
    "                left_index += 1\n",
    "    \n",
    "        merged += left[left_index:]\n",
    "        merged += right[right_index:]\n",
    "            \n",
    "        return merged\n",
    "    \n",
    "    if len(input_list) == 0:\n",
    "        return [-1,-1]\n",
    "    \n",
    "    number_1 = \"\"\n",
    "    number_2 = \"\"\n",
    "    \n",
    "    sorted_list_desc = mergesort(input_list) \n",
    "    \n",
    "    for index, number in enumerate(sorted_list_desc):\n",
    "        if (index % 2) == 0:\n",
    "            \n",
    "            number_1 += str(number)\n",
    "        else:\n",
    "            number_2 += str(number)\n",
    "    \n",
    "    return [int(number_1), int(number_2)]\n",
    "    \n",
    "\n",
    "def test_function(test_case):\n",
    "    output = rearrange_digits(test_case[0])\n",
    "    solution = test_case[1]\n",
    "    if sum(output) == sum(solution):\n",
    "        print(\"Pass\")\n",
    "    else:\n",
    "        print(\"Fail\")"
   ]
  },
  {
   "cell_type": "code",
   "execution_count": 43,
   "metadata": {},
   "outputs": [
    {
     "name": "stdout",
     "output_type": "stream",
     "text": [
      "Pass\n",
      "Pass\n",
      "Pass\n",
      "Pass\n"
     ]
    }
   ],
   "source": [
    "test_function([[1, 2, 3, 4, 5], [542, 31]])\n",
    "test_function([[4, 6, 2, 5, 9, 8], [964, 852]])\n",
    "test_function([[], [-1,-1]])\n",
    "test_function([[1,1,1,1], [11,11]])"
   ]
  },
  {
   "cell_type": "markdown",
   "metadata": {},
   "source": [
    "### Explanation"
   ]
  },
  {
   "cell_type": "markdown",
   "metadata": {},
   "source": [
    "Time efficiency: O(nlog(n))\n",
    "\n",
    "Space efficiency: O(n)"
   ]
  },
  {
   "cell_type": "markdown",
   "metadata": {},
   "source": [
    "Design choices: \n",
    "1. I used a merge sort algorithm, sorting the elements by descending order. I then iterate through the sorted list and create a logic to get the two max sums."
   ]
  },
  {
   "cell_type": "markdown",
   "metadata": {},
   "source": [
    "### Credits"
   ]
  },
  {
   "cell_type": "markdown",
   "metadata": {},
   "source": [
    "I adapted the merge sort algorithm from class: https://classroom.udacity.com/nanodegrees/nd256/parts/cd1887/modules/9ded5d76-37be-4fbc-9653-af8f160e9e98/lessons/a8675094-8613-45ec-93fb-7c622ed72de6/concepts/f6f69fed-8782-492c-baea-7a0b8e5a1528"
   ]
  },
  {
   "cell_type": "markdown",
   "metadata": {},
   "source": [
    "## Problem 4: Dutch National Flag Problem"
   ]
  },
  {
   "cell_type": "code",
   "execution_count": 61,
   "metadata": {},
   "outputs": [
    {
     "name": "stdout",
     "output_type": "stream",
     "text": [
      "[0, 0, 0, 1, 1, 1, 2, 2, 2, 2, 2]\n",
      "Pass\n",
      "[0, 0, 0, 0, 0, 0, 0, 0, 0, 0, 0, 1, 1, 1, 1, 1, 1, 2, 2, 2, 2, 2, 2, 2, 2, 2]\n",
      "Pass\n",
      "[0, 0, 0, 0, 0, 0, 1, 1, 1, 1, 1, 1, 2, 2, 2, 2, 2, 2, 2]\n",
      "Pass\n"
     ]
    }
   ],
   "source": [
    "def sort_012(input_list):\n",
    "    \"\"\"\n",
    "    Given an input array consisting on only 0, 1, and 2, sort the array in a single traversal.\n",
    "\n",
    "    Args:\n",
    "       input_list(list): List to be sorted\n",
    "    \"\"\"\n",
    "    \n",
    "    if len(input_list) == 0:\n",
    "        return None\n",
    "    \n",
    "    zeros = []\n",
    "    ones = []\n",
    "    twos = []\n",
    "    \n",
    "    for number in input_list:\n",
    "        if number == 0:\n",
    "            zeros.append(number)\n",
    "        elif number == 1:\n",
    "            ones.append(number)\n",
    "        elif number == 2:\n",
    "            twos.append(number)\n",
    "            \n",
    "    return zeros + ones + twos\n",
    "        \n",
    "def test_function(test_case):\n",
    "    sorted_array = sort_012(test_case)\n",
    "    print(sorted_array)\n",
    "    if sorted_array == sorted(test_case):\n",
    "        print(\"Pass\")\n",
    "    else:\n",
    "        print(\"Fail\")\n",
    "\n",
    "test_function([0, 0, 2, 2, 2, 1, 1, 1, 2, 0, 2])\n",
    "test_function([2, 1, 2, 0, 0, 2, 1, 0, 1, 0, 0, 2, 2, 2, 1, 2, 0, 0, 0, 2, 1, 0, 2, 0, 0, 1])\n",
    "test_function([0, 0, 0, 0, 0, 0, 1, 1, 1, 1, 1, 1, 2, 2, 2, 2, 2, 2, 2])"
   ]
  },
  {
   "cell_type": "markdown",
   "metadata": {},
   "source": [
    "### Explanation"
   ]
  },
  {
   "cell_type": "markdown",
   "metadata": {},
   "source": [
    "Time efficiency: O(n)\n",
    "\n",
    "Space efficiency: O(n)"
   ]
  },
  {
   "cell_type": "markdown",
   "metadata": {},
   "source": [
    "Design choices: \n",
    "1. I used an simple loop where I saved each numbers (0,1,2) in different lists and then return the append of the three of them. It is probabily not the best in terms of space efficiency, but it is very simple."
   ]
  },
  {
   "cell_type": "markdown",
   "metadata": {},
   "source": [
    "## Problem 5: Building a Trie in Python"
   ]
  },
  {
   "cell_type": "code",
   "execution_count": 45,
   "metadata": {},
   "outputs": [],
   "source": [
    "## Represents a single node in the Trie\n",
    "class TrieNode:\n",
    "    def __init__(self):\n",
    "        ## Initialize this node in the Trie\n",
    "        self._is_word = False\n",
    "        self.children = {}\n",
    "    \n",
    "    def insert(self, char):\n",
    "        ## Add a child node in this Trie\n",
    "        self.children[char] = TrieNode() \n",
    "        \n",
    "    def suffixes(self, suffix = ''):\n",
    "        ## Recursive function that collects the suffix for \n",
    "        ## all complete words below this point\n",
    "        \n",
    "        sufix_list = []\n",
    "        \n",
    "        for char, node in self.children.items():\n",
    "            if node._is_word:\n",
    "                sufix_list.append(suffix+char)\n",
    "            if node.children:\n",
    "                sufix_list += node.suffixes(suffix+char)\n",
    "        \n",
    "        return sufix_list\n",
    "\n",
    "        \n",
    "## The Trie itself containing the root node and insert/find functions\n",
    "class Trie:\n",
    "    def __init__(self):\n",
    "        ## Initialize this Trie (add a root node)\n",
    "        self.root = TrieNode()\n",
    "\n",
    "    def insert(self, word):\n",
    "        ## Add a word to the Trie\n",
    "        \n",
    "        current_node = self.root\n",
    "        \n",
    "        for char in word:\n",
    "            if char not in current_node.children:\n",
    "                current_node.insert(char)\n",
    "            current_node = current_node.children[char]\n",
    "            \n",
    "        current_node._is_word = True\n",
    "                \n",
    "\n",
    "    def find(self, prefix):\n",
    "        ## Find the Trie node that represents this prefix\n",
    "        \n",
    "        current_node = self.root\n",
    "        \n",
    "        for char in prefix:\n",
    "            if char not in current_node.children:\n",
    "                return False\n",
    "            else:\n",
    "                current_node = current_node.children[char]\n",
    "        \n",
    "        return current_node\n"
   ]
  },
  {
   "cell_type": "code",
   "execution_count": 46,
   "metadata": {},
   "outputs": [],
   "source": [
    "MyTrie = Trie()\n",
    "wordList = [\n",
    "    \"ant\", \"anthology\", \"antagonist\", \"antonym\", \n",
    "    \"fun\", \"function\", \"factory\", \n",
    "    \"trie\", \"trigger\", \"trigonometry\", \"tripod\"\n",
    "]\n",
    "for word in wordList:\n",
    "    MyTrie.insert(word)"
   ]
  },
  {
   "cell_type": "code",
   "execution_count": 47,
   "metadata": {},
   "outputs": [
    {
     "data": {
      "application/vnd.jupyter.widget-view+json": {
       "model_id": "93b47f1a8c084e6189546c6fa806d7ce",
       "version_major": 2,
       "version_minor": 0
      },
      "text/html": [
       "<p>Failed to display Jupyter Widget of type <code>interactive</code>.</p>\n",
       "<p>\n",
       "  If you're reading this message in the Jupyter Notebook or JupyterLab Notebook, it may mean\n",
       "  that the widgets JavaScript is still loading. If this message persists, it\n",
       "  likely means that the widgets JavaScript library is either not installed or\n",
       "  not enabled. See the <a href=\"https://ipywidgets.readthedocs.io/en/stable/user_install.html\">Jupyter\n",
       "  Widgets Documentation</a> for setup instructions.\n",
       "</p>\n",
       "<p>\n",
       "  If you're reading this message in another frontend (for example, a static\n",
       "  rendering on GitHub or <a href=\"https://nbviewer.jupyter.org/\">NBViewer</a>),\n",
       "  it may mean that your frontend doesn't currently support widgets.\n",
       "</p>\n"
      ],
      "text/plain": [
       "interactive(children=(Text(value='', description='prefix'), Output()), _dom_classes=('widget-interact',))"
      ]
     },
     "metadata": {},
     "output_type": "display_data"
    }
   ],
   "source": [
    "from ipywidgets import widgets\n",
    "from IPython.display import display\n",
    "from ipywidgets import interact\n",
    "def f(prefix):\n",
    "    if prefix != '':\n",
    "        prefixNode = MyTrie.find(prefix)\n",
    "        if prefixNode:\n",
    "            print('\\n'.join(prefixNode.suffixes()))\n",
    "        else:\n",
    "            print(prefix + \" not found\")\n",
    "    else:\n",
    "        print('')\n",
    "interact(f,prefix='');"
   ]
  },
  {
   "cell_type": "markdown",
   "metadata": {},
   "source": [
    "### Explanation"
   ]
  },
  {
   "cell_type": "markdown",
   "metadata": {},
   "source": [
    "Time efficiency: O(n*m) where n is the number of words and m is the length of the word\n",
    "\n",
    "Space efficiency: O(n)"
   ]
  },
  {
   "cell_type": "markdown",
   "metadata": {},
   "source": [
    "Design choices:\n",
    "I used a trie tree as suggested by the problem description."
   ]
  },
  {
   "cell_type": "markdown",
   "metadata": {},
   "source": [
    "## Problem 6: Unsorted Integer Array"
   ]
  },
  {
   "cell_type": "code",
   "execution_count": 48,
   "metadata": {},
   "outputs": [
    {
     "name": "stdout",
     "output_type": "stream",
     "text": [
      "Pass\n"
     ]
    }
   ],
   "source": [
    "def get_min_max(ints):\n",
    "    \"\"\"\n",
    "    Return a tuple(min, max) out of list of unsorted integers.\n",
    "\n",
    "    Args:\n",
    "       ints(list): list of integers containing one or more integers\n",
    "    \"\"\"\n",
    "    min_number = ints[0]\n",
    "    max_number = ints[0]\n",
    "    \n",
    "    for number in ints:\n",
    "        if number > max_number:\n",
    "            max_number = number\n",
    "        if number < min_number:\n",
    "            min_number = number\n",
    "            \n",
    "    return (min_number, max_number)\n",
    "\n",
    "## Example Test Case of Ten Integers\n",
    "import random\n",
    "\n",
    "l = [i for i in range(0, 10)]  # a list containing 0 - 9\n",
    "random.shuffle(l)\n",
    "\n",
    "print (\"Pass\" if ((0, 9) == get_min_max(l)) else \"Fail\")"
   ]
  },
  {
   "cell_type": "code",
   "execution_count": 49,
   "metadata": {},
   "outputs": [
    {
     "name": "stdout",
     "output_type": "stream",
     "text": [
      "Pass\n"
     ]
    }
   ],
   "source": [
    "print (\"Pass\" if (8,60) == get_min_max([10,9,50,60,8]) else \"Fail\")"
   ]
  },
  {
   "cell_type": "code",
   "execution_count": 50,
   "metadata": {},
   "outputs": [
    {
     "name": "stdout",
     "output_type": "stream",
     "text": [
      "Pass\n"
     ]
    }
   ],
   "source": [
    "print (\"Pass\" if (0,0) == get_min_max([0,0,0,0,0,0]) else \"Fail\")"
   ]
  },
  {
   "cell_type": "markdown",
   "metadata": {},
   "source": [
    "### Explanation"
   ]
  },
  {
   "cell_type": "markdown",
   "metadata": {},
   "source": [
    "Time efficiency: O(n)\n",
    "\n",
    "Space efficiency: O(1)"
   ]
  },
  {
   "cell_type": "markdown",
   "metadata": {},
   "source": [
    "Design choices:\n",
    "\n",
    "I used a very simple approach to compare each of the numbers with their previous (for max and min) in one iteration, thus having O(n) efficiency."
   ]
  },
  {
   "cell_type": "markdown",
   "metadata": {},
   "source": [
    "## Problem 7: Request Routing in a Web Server with a Trie"
   ]
  },
  {
   "cell_type": "code",
   "execution_count": 51,
   "metadata": {},
   "outputs": [],
   "source": [
    "# A RouteTrieNode will be similar to our autocomplete TrieNode... with one additional element, a handler.\n",
    "class RouteTrieNode:\n",
    "    def __init__(self, handler = None):\n",
    "        # Initialize the node with children as before, plus a handler\n",
    "        self.children = {}\n",
    "        self.handler = handler\n",
    "\n",
    "    def insert(self, word):\n",
    "        # Insert the node as before\n",
    "        self.children[word] = RouteTrieNode()\n",
    "\n",
    "\n",
    "# A RouteTrie will store our routes and their associated handlers\n",
    "class RouteTrie:\n",
    "    def __init__(self, handler):\n",
    "        # Initialize the trie with an root node and a handler, this is the root path or home page node\n",
    "        self.root = RouteTrieNode(handler)\n",
    "        self.root.insert('/')\n",
    "\n",
    "    def insert(self, words, handler):\n",
    "        # Similar to our previous example you will want to recursively add nodes\n",
    "        # Make sure you assign the handler to only the leaf (deepest) node of this path\n",
    "        \n",
    "        current_node = self.root\n",
    "        \n",
    "        for word in words:\n",
    "            if word not in current_node.children:\n",
    "                current_node.insert(word)\n",
    "            current_node = current_node.children[word]\n",
    "            \n",
    "        current_node.handler = handler\n",
    "\n",
    "    def find(self, words):\n",
    "        # Starting at the root, navigate the Trie to find a match for this path\n",
    "        # Return the handler for a match, or None for no match\n",
    "        \n",
    "        current_node = self.root\n",
    "        \n",
    "        for word in words:\n",
    "            if word not in current_node.children:\n",
    "                return None\n",
    "            else:\n",
    "                current_node = current_node.children[word]\n",
    "        \n",
    "        return current_node.handler"
   ]
  },
  {
   "cell_type": "code",
   "execution_count": 52,
   "metadata": {},
   "outputs": [],
   "source": [
    "# The Router class will wrap the Trie and handle \n",
    "class Router:\n",
    "    def __init__(self, handler):\n",
    "        # Create a new RouteTrie for holding our routes\n",
    "        # You could also add a handler for 404 page not found responses as well!\n",
    "        self.root = RouteTrie(handler)\n",
    "\n",
    "    def add_handler(self, path, handler):\n",
    "        # Add a handler for a path\n",
    "        # You will need to split the path and pass the pass parts\n",
    "        # as a list to the RouteTrie\n",
    "        clean_path = self.split_path(path)\n",
    "        \n",
    "        self.root.insert(clean_path, handler)\n",
    "        \n",
    "    def lookup(self, path):\n",
    "        # lookup path (by parts) and return the associated handler\n",
    "        # you can return None if it's not found or\n",
    "        # return the \"not found\" handler if you added one\n",
    "        # bonus points if a path works with and without a trailing slash\n",
    "        # e.g. /about and /about/ both return the /about handler\n",
    "        clean_path = self.split_path(path)\n",
    "        \n",
    "        return self.root.find(clean_path)\n",
    "        \n",
    "    def split_path(self, path):\n",
    "        # you need to split the path into parts for \n",
    "        # both the add_handler and loopup functions,\n",
    "        # so it should be placed in a function here\n",
    "        \n",
    "        split_path = path.split('/')\n",
    "        clean_path = [word for word in split_path if word]\n",
    "        \n",
    "        return clean_path\n",
    "        "
   ]
  },
  {
   "cell_type": "code",
   "execution_count": 53,
   "metadata": {},
   "outputs": [
    {
     "name": "stdout",
     "output_type": "stream",
     "text": [
      "root handler\n",
      "None\n",
      "about handler\n",
      "about handler\n",
      "None\n"
     ]
    }
   ],
   "source": [
    "# Here are some test cases and expected outputs you can use to test your implementation\n",
    "\n",
    "# create the router and add a route\n",
    "router = Router(\"root handler\") # remove the 'not found handler' if you did not implement this\n",
    "router.add_handler(\"/home/about\", \"about handler\")  # add a route\n",
    "\n",
    "# some lookups with the expected output\n",
    "print(router.lookup(\"/\")) # should print 'root handler'\n",
    "print(router.lookup(\"/home\")) # should print 'not found handler' or None if you did not implement one\n",
    "print(router.lookup(\"/home/about\")) # should print 'about handler'\n",
    "print(router.lookup(\"/home/about/\")) # should print 'about handler' or None if you did not handle trailing slashes\n",
    "print(router.lookup(\"/home/about/me\")) # should print 'not found handler' or None if you did not implement one"
   ]
  },
  {
   "cell_type": "markdown",
   "metadata": {},
   "source": [
    "### Explanation"
   ]
  },
  {
   "cell_type": "markdown",
   "metadata": {},
   "source": [
    "Time efficiency: O(n*m) where n is the size of the path and m is the number of parts (each part is splited by /)\n",
    "\n",
    "Space efficiency: O(n)"
   ]
  },
  {
   "cell_type": "markdown",
   "metadata": {},
   "source": [
    "Design choices:\n",
    "I used a trie tree as suggested by the problem description."
   ]
  }
 ],
 "metadata": {
  "kernelspec": {
   "display_name": "Python 3",
   "language": "python",
   "name": "python3"
  },
  "language_info": {
   "codemirror_mode": {
    "name": "ipython",
    "version": 3
   },
   "file_extension": ".py",
   "mimetype": "text/x-python",
   "name": "python",
   "nbconvert_exporter": "python",
   "pygments_lexer": "ipython3",
   "version": "3.6.3"
  }
 },
 "nbformat": 4,
 "nbformat_minor": 2
}
